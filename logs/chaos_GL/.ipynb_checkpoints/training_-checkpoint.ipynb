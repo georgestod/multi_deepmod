{
 "cells": [
  {
   "cell_type": "code",
   "execution_count": 1,
   "metadata": {},
   "outputs": [],
   "source": [
    "import os\n",
    "import glob\n",
    "from tensorflow.python.summary.summary_iterator import summary_iterator\n",
    "\n",
    "import matplotlib.pylab as plt\n",
    "import numpy as np\n",
    "from sklearn.model_selection import train_test_split\n",
    "from sklearn.utils.random import sample_without_replacement\n",
    "from sklearn.utils import shuffle,resample\n",
    "from sklearn.linear_model import Ridge\n",
    "\n",
    "\n",
    "from time import time\n",
    "\n",
    "%load_ext autoreload\n",
    "%autoreload 2"
   ]
  },
  {
   "cell_type": "code",
   "execution_count": 2,
   "metadata": {},
   "outputs": [],
   "source": [
    "import seaborn as sns\n"
   ]
  },
  {
   "cell_type": "code",
   "execution_count": 3,
   "metadata": {},
   "outputs": [],
   "source": [
    "sns.set(font_scale=1.5)\n",
    "sns.set_style(\"white\")\n"
   ]
  },
  {
   "cell_type": "code",
   "execution_count": 4,
   "metadata": {},
   "outputs": [
    {
     "name": "stdout",
     "output_type": "stream",
     "text": [
      "WARNING:tensorflow:From /home/neptune/anaconda3/envs/eX/lib/python3.8/site-packages/tensorflow/python/summary/summary_iterator.py:31: tf_record_iterator (from tensorflow.python.lib.io.tf_record) is deprecated and will be removed in a future version.\n",
      "Instructions for updating:\n",
      "Use eager execution and: \n",
      "`tf.data.TFRecordDataset(path)`\n",
      "no\n",
      "wall_time: 1631266529.692997\n",
      "summary {\n",
      "  value {\n",
      "    tag: \"3_Training/loss\"\n",
      "    simple_value: 0.2722693085670471\n",
      "  }\n",
      "}\n",
      "\n",
      "wall_time: 1631266530.0439012\n",
      "summary {\n",
      "  value {\n",
      "    tag: \"3_Training/mse\"\n",
      "    simple_value: 0.24307982623577118\n",
      "  }\n",
      "}\n",
      "\n"
     ]
    }
   ],
   "source": [
    "\n",
    "l_mse  = []\n",
    "l_reg  = []\n",
    "l_loss = []\n",
    "l_IRC = []\n",
    "l_IRCada = []\n",
    "l_PoV = []\n",
    "l_cnum = []\n",
    "l_cnum_GT = []\n",
    "\n",
    "for i,value in enumerate(summary_iterator(glob.glob('*.neptune')[0])):\n",
    "    try:\n",
    "        if value.summary.value[0].tag==\"3_Training/mse\":\n",
    "            l_mse.append([value.step,value.summary.value[0].simple_value])\n",
    "        if value.summary.value[0].tag==\"3_Training/reg\":\n",
    "            l_reg.append([value.step,value.summary.value[0].simple_value])\n",
    "        if value.summary.value[0].tag==\"3_Training/loss\":\n",
    "            l_loss.append([value.step,value.summary.value[0].simple_value])\n",
    "        \n",
    "        if value.summary.value[0].tag==\"7_IRC/IRC\":\n",
    "            l_IRC.append([value.step,value.summary.value[0].simple_value])\n",
    "        if value.summary.value[0].tag==\"7_IRC/IRC_Adaptive\":\n",
    "            l_IRCada.append([value.step,value.summary.value[0].simple_value])\n",
    "         \n",
    "        if value.summary.value[0].tag==\"7_IRC/PoV\":\n",
    "            l_PoV.append([value.step,value.summary.value[0].simple_value])\n",
    "       \n",
    "            \n",
    "        if value.summary.value[0].tag==\"7_IRC/cond_num_adaptive\":\n",
    "            l_cnum.append([value.step,value.summary.value[0].simple_value])\n",
    "            \n",
    "\n",
    "        if value.summary.value[0].tag==\"7_IRC/cond_num_adaptive_GT\":\n",
    "            l_cnum_GT.append([value.step,value.summary.value[0].simple_value])\n",
    "\n",
    "            \n",
    "        if i<3:\n",
    "            print(value)\n",
    "    except:\n",
    "        print('no')"
   ]
  },
  {
   "cell_type": "code",
   "execution_count": null,
   "metadata": {},
   "outputs": [],
   "source": []
  },
  {
   "cell_type": "code",
   "execution_count": 5,
   "metadata": {},
   "outputs": [
    {
     "name": "stdout",
     "output_type": "stream",
     "text": [
      "no\n"
     ]
    }
   ],
   "source": [
    "l_mse_test  = []\n",
    "\n",
    "for i,value in enumerate(summary_iterator(glob.glob('4_Test/mse_test/1/*.neptune')[0])):\n",
    "    try:\n",
    "        if value.summary.value[0].tag=='4_Test/mse_test':\n",
    "            l_mse_test.append([value.step,value.summary.value[0].simple_value])             \n",
    "    except:\n",
    "        print('no')"
   ]
  },
  {
   "cell_type": "code",
   "execution_count": 6,
   "metadata": {},
   "outputs": [
    {
     "data": {
      "image/png": "[encoded data removed]",
      "text/plain": [
       "<Figure size 432x288 with 1 Axes>"
      ]
     },
     "metadata": {},
     "output_type": "display_data"
    }
   ],
   "source": [
    "plt.plot(np.array(l_loss)[:,0],np.array(l_loss)[:,1])\n",
    "plt.plot(np.array(l_mse_test)[:,0],np.array(l_mse_test)[:,1])\n",
    "plt.yscale('log')"
   ]
  },
  {
   "cell_type": "code",
   "execution_count": 7,
   "metadata": {},
   "outputs": [
    {
     "data": {
      "text/plain": [
       "[94775, 0.005506409332156181]"
      ]
     },
     "execution_count": 7,
     "metadata": {},
     "output_type": "execute_result"
    }
   ],
   "source": [
    "l_mse_test[-1]"
   ]
  },
  {
   "cell_type": "code",
   "execution_count": null,
   "metadata": {},
   "outputs": [],
   "source": []
  }
 ],
 "metadata": {
  "kernelspec": {
   "display_name": "Python 3",
   "language": "python",
   "name": "python3"
  },
  "language_info": {
   "codemirror_mode": {
    "name": "ipython",
    "version": 3
   },
   "file_extension": ".py",
   "mimetype": "text/x-python",
   "name": "python",
   "nbconvert_exporter": "python",
   "pygments_lexer": "ipython3",
   "version": "3.8.10"
  }
 },
 "nbformat": 4,
 "nbformat_minor": 4
}
